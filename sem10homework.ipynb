{
  "nbformat": 4,
  "nbformat_minor": 0,
  "metadata": {
    "colab": {
      "provenance": [],
      "authorship_tag": "ABX9TyMCMn+Yfx8e+u8AODrjrDT6",
      "include_colab_link": true
    },
    "kernelspec": {
      "name": "python3",
      "display_name": "Python 3"
    },
    "language_info": {
      "name": "python"
    }
  },
  "cells": [
    {
      "cell_type": "markdown",
      "metadata": {
        "id": "view-in-github",
        "colab_type": "text"
      },
      "source": [
        "<a href=\"https://colab.research.google.com/github/Shalfey94/PythonCourse/blob/main/sem10homework.ipynb\" target=\"_parent\"><img src=\"https://colab.research.google.com/assets/colab-badge.svg\" alt=\"Open In Colab\"/></a>"
      ]
    },
    {
      "cell_type": "markdown",
      "source": [
        "В ячейке ниже представлен код генерирующий DataFrame, которая состоит всего из 1 столбца. \n",
        "\n",
        "Ваша задача перевести его в one hot вид. \n",
        "\n",
        "Сможете ли вы это сделать без get_dummies"
      ],
      "metadata": {
        "id": "6QzwEWX4cEh5"
      }
    },
    {
      "cell_type": "code",
      "source": [
        "import pandas as pd\n"
      ],
      "metadata": {
        "id": "R82XFwACcWlR"
      },
      "execution_count": 3,
      "outputs": []
    },
    {
      "cell_type": "code",
      "source": [
        "import random\n",
        "lst = ['robot'] * 10\n",
        "lst += ['human'] * 10\n",
        "random.shuffle(lst)\n",
        "data = pd.DataFrame({'whoAmI':lst})\n",
        "data.head()"
      ],
      "metadata": {
        "id": "YapOTG4Qckbk"
      },
      "execution_count": null,
      "outputs": []
    },
    {
      "cell_type": "code",
      "source": [
        "pd.get_dummies(data['whoAmI'])"
      ],
      "metadata": {
        "id": "VC-9GFGddwdf"
      },
      "execution_count": null,
      "outputs": []
    },
    {
      "cell_type": "code",
      "source": [
        "data.loc[:, 'Human'] = 0\n",
        "data.loc[:, 'Robot'] = 0\n",
        "data.loc[data['whoAmI'] == 'human', 'Human'] = 1\n",
        "data.loc[data['whoAmI'] == 'robot', 'Robot'] = 1\n",
        "data = data.drop(columns = 'whoAmI')"
      ],
      "metadata": {
        "id": "RVo20jp-gnJr"
      },
      "execution_count": 45,
      "outputs": []
    },
    {
      "cell_type": "code",
      "source": [
        "data"
      ],
      "metadata": {
        "id": "pNBEDtaShJM7"
      },
      "execution_count": null,
      "outputs": []
    },
    {
      "cell_type": "code",
      "source": [
        "import numpy as np\n",
        "data['Human'] = np.where(data['whoAmI'].str.contains('human'), 1, 0)\n",
        "data['Robot'] = np.where(data['whoAmI'].str.contains('robot'), 1, 0)\n",
        "data = data.drop(columns = 'whoAmI')"
      ],
      "metadata": {
        "id": "0c-VGc4-qXxg"
      },
      "execution_count": 48,
      "outputs": []
    },
    {
      "cell_type": "code",
      "source": [
        "data"
      ],
      "metadata": {
        "id": "I8HMmdA9rzYo"
      },
      "execution_count": null,
      "outputs": []
    }
  ]
}